{
 "cells": [
  {
   "cell_type": "code",
   "execution_count": 2,
   "metadata": {},
   "outputs": [],
   "source": [
    "# Importing neccessary libraries\n",
    "import os\n",
    "import csv\n",
    "import PyPDF2\n",
    "from PyPDF2 import PdfReader\n",
    "import re"
   ]
  },
  {
   "cell_type": "code",
   "execution_count": 3,
   "metadata": {},
   "outputs": [],
   "source": [
    "# defining regular expressions for skills and education\n",
    "\n",
    "skills_pattern = r\"Skills(.*?)(Education|$)\"\n",
    "education_pattern = r\"Education(.*?)(Skills|$)\"\n"
   ]
  },
  {
   "cell_type": "code",
   "execution_count": 4,
   "metadata": {},
   "outputs": [],
   "source": [
    "# 1.Function to extract text from the pdf using pypdf2\n",
    "def extract_text_from_pdf(pdf_path):\n",
    "    try:\n",
    "        with open(pdf_path,\"rb\") as f:\n",
    "            reader = PdfReader(f)\n",
    "            num_pages = len(reader.pages)\n",
    "            results = []\n",
    "            for i in range(num_pages):\n",
    "                page = reader.pages[i]\n",
    "                text = page.extract_text()\n",
    "                results.append(text)\n",
    "            s = ' '.join(results)\n",
    "            return s\n",
    "    except Exception as e:\n",
    "        print(f\"Error reading PDF: {str(e)}\")\n",
    "        return \"\"\n",
    "\n",
    "# 2.Function to extract skills and education from text extracted from pdf using re\n",
    "\n",
    "\n",
    "def extract_skills_and_education(text):\n",
    "    skills_match = re.search(skills_pattern, text, re.DOTALL)\n",
    "    education_match = re.search(education_pattern, text, re.DOTALL)\n",
    "\n",
    "    skills = skills_match.group(1).strip() if skills_match else \"\"\n",
    "    education = education_match.group(1).strip() if education_match else \"\"\n",
    "\n",
    "    return skills, education\n",
    "\n",
    "# 3.Function to process pdfs and extract text,skills,category,id\n",
    "\n",
    "\n",
    "def process_pdfs_in_directory(directory):\n",
    "    data = []\n",
    "\n",
    "    for root, dirs, files in os.walk(directory):\n",
    "        for file in files:\n",
    "            if file.endswith(\".pdf\"):\n",
    "                pdf_path = os.path.join(root, file)\n",
    "                category = os.path.basename(root)\n",
    "                id = os.path.splitext(file)[0]\n",
    "\n",
    "                text = extract_text_from_pdf(pdf_path)\n",
    "                skills, education = extract_skills_and_education(text)\n",
    "            data.append([id, text, skills, education, category])\n",
    "    return data\n",
    "\n",
    "\n",
    "def save_to_csv(data, csv_filename):\n",
    "    with open(csv_filename, mode=\"w\", newline=\"\", encoding=\"utf-8\") as csv_file:\n",
    "        csv_writer = csv.writer(csv_file)\n",
    "        csv_writer.writerow(\n",
    "            [\"ID\", \"resume_str\", \"Skills\", \"Education\", \"Category\"])\n",
    "        csv_writer.writerows(data)\n",
    "\n",
    "\n",
    "if __name__ == \"__main__\":\n",
    "    root_directory = r\"D:\\MyProjects\\resume_recommendation\\resume_data\\data\\data\"\n",
    "    data = process_pdfs_in_directory(root_directory)\n",
    "    save_to_csv(data, \"resumes.csv\")\n"
   ]
  },
  {
   "cell_type": "markdown",
   "metadata": {},
   "source": [
    "# Extracted the resumes which is in pdf format from the folder and saved in the resumes.csv in csv format\n",
    "# which contains features like\n",
    "        id\n",
    "        resume_str\n",
    "        Skills\n",
    "        Education\n",
    "        Category"
   ]
  },
  {
   "cell_type": "code",
   "execution_count": null,
   "metadata": {},
   "outputs": [],
   "source": []
  },
  {
   "cell_type": "code",
   "execution_count": null,
   "metadata": {},
   "outputs": [],
   "source": []
  },
  {
   "cell_type": "code",
   "execution_count": null,
   "metadata": {},
   "outputs": [],
   "source": []
  },
  {
   "cell_type": "code",
   "execution_count": null,
   "metadata": {},
   "outputs": [],
   "source": []
  },
  {
   "cell_type": "code",
   "execution_count": null,
   "metadata": {},
   "outputs": [],
   "source": []
  },
  {
   "cell_type": "markdown",
   "metadata": {},
   "source": []
  },
  {
   "cell_type": "markdown",
   "metadata": {},
   "source": []
  },
  {
   "cell_type": "code",
   "execution_count": null,
   "metadata": {},
   "outputs": [],
   "source": []
  },
  {
   "cell_type": "code",
   "execution_count": null,
   "metadata": {},
   "outputs": [],
   "source": []
  },
  {
   "cell_type": "code",
   "execution_count": null,
   "metadata": {},
   "outputs": [],
   "source": []
  },
  {
   "cell_type": "code",
   "execution_count": null,
   "metadata": {},
   "outputs": [],
   "source": []
  },
  {
   "cell_type": "code",
   "execution_count": null,
   "metadata": {},
   "outputs": [],
   "source": []
  },
  {
   "cell_type": "code",
   "execution_count": null,
   "metadata": {},
   "outputs": [],
   "source": []
  },
  {
   "cell_type": "code",
   "execution_count": null,
   "metadata": {},
   "outputs": [],
   "source": []
  },
  {
   "cell_type": "code",
   "execution_count": null,
   "metadata": {},
   "outputs": [],
   "source": []
  },
  {
   "cell_type": "code",
   "execution_count": null,
   "metadata": {},
   "outputs": [],
   "source": []
  },
  {
   "cell_type": "code",
   "execution_count": null,
   "metadata": {},
   "outputs": [],
   "source": []
  },
  {
   "cell_type": "code",
   "execution_count": null,
   "metadata": {},
   "outputs": [],
   "source": []
  },
  {
   "cell_type": "code",
   "execution_count": null,
   "metadata": {},
   "outputs": [],
   "source": []
  },
  {
   "cell_type": "code",
   "execution_count": null,
   "metadata": {},
   "outputs": [],
   "source": []
  },
  {
   "cell_type": "code",
   "execution_count": null,
   "metadata": {},
   "outputs": [],
   "source": []
  },
  {
   "cell_type": "code",
   "execution_count": null,
   "metadata": {},
   "outputs": [],
   "source": []
  }
 ],
 "metadata": {
  "kernelspec": {
   "display_name": "venv",
   "language": "python",
   "name": "python3"
  },
  "language_info": {
   "codemirror_mode": {
    "name": "ipython",
    "version": 3
   },
   "file_extension": ".py",
   "mimetype": "text/x-python",
   "name": "python",
   "nbconvert_exporter": "python",
   "pygments_lexer": "ipython3",
   "version": "3.10.10"
  },
  "orig_nbformat": 4
 },
 "nbformat": 4,
 "nbformat_minor": 2
}
